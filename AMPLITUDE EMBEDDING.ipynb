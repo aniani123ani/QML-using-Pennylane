{
 "cells": [
  {
   "cell_type": "code",
   "execution_count": 1,
   "id": "59e5f5f9",
   "metadata": {},
   "outputs": [],
   "source": [
    "import pennylane as qml\n",
    "from pennylane import numpy as np"
   ]
  },
  {
   "cell_type": "code",
   "execution_count": 2,
   "id": "c07cfbb0",
   "metadata": {},
   "outputs": [],
   "source": [
    "dev3 = qml.device('default.qubit', wires=2)\n",
    "\n",
    "@qml.qnode(dev3)\n",
    "def circuit(feature_vector):\n",
    "    qml.AmplitudeEmbedding(features=feature_vector,wires=range(2),normalize=True)\n",
    "    return qml.expval(qml.PauliZ(0))"
   ]
  },
  {
   "cell_type": "code",
   "execution_count": 3,
   "id": "1b4bdea9",
   "metadata": {},
   "outputs": [],
   "source": [
    "Z=[0.24,0.72,0.06,0]"
   ]
  },
  {
   "cell_type": "code",
   "execution_count": 4,
   "id": "0950cdb2",
   "metadata": {},
   "outputs": [
    {
     "data": {
      "text/plain": [
       "tensor(0.98757764, requires_grad=True)"
      ]
     },
     "execution_count": 4,
     "metadata": {},
     "output_type": "execute_result"
    }
   ],
   "source": [
    "circuit(Z)"
   ]
  },
  {
   "cell_type": "code",
   "execution_count": 5,
   "id": "ca2a4407",
   "metadata": {},
   "outputs": [
    {
     "data": {
      "text/plain": [
       "tensor(0., requires_grad=True)"
      ]
     },
     "execution_count": 5,
     "metadata": {},
     "output_type": "execute_result"
    }
   ],
   "source": [
    "circuit(feature_vector=[15, 15, 15, 15])\n"
   ]
  },
  {
   "cell_type": "code",
   "execution_count": null,
   "id": "ba11283e",
   "metadata": {},
   "outputs": [],
   "source": []
  },
  {
   "cell_type": "code",
   "execution_count": null,
   "id": "dd1048e1",
   "metadata": {},
   "outputs": [],
   "source": []
  }
 ],
 "metadata": {
  "kernelspec": {
   "display_name": "Python 3 (ipykernel)",
   "language": "python",
   "name": "python3"
  },
  "language_info": {
   "codemirror_mode": {
    "name": "ipython",
    "version": 3
   },
   "file_extension": ".py",
   "mimetype": "text/x-python",
   "name": "python",
   "nbconvert_exporter": "python",
   "pygments_lexer": "ipython3",
   "version": "3.10.9"
  }
 },
 "nbformat": 4,
 "nbformat_minor": 5
}
