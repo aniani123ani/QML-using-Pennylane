{
 "cells": [
  {
   "cell_type": "code",
   "execution_count": 1,
   "id": "d3884906",
   "metadata": {},
   "outputs": [],
   "source": [
    "import pennylane as qml\n",
    "from pennylane import numpy as np"
   ]
  },
  {
   "cell_type": "code",
   "execution_count": 2,
   "id": "8a97b84d",
   "metadata": {},
   "outputs": [],
   "source": [
    "dev2 = qml.device('default.qubit', wires=2)\n",
    "\n",
    "@qml.qnode(dev2)\n",
    "def circuit2(phi, theta):\n",
    "    qml.RX(phi[0], wires=0)\n",
    "    qml.RY(phi[1], wires=1)\n",
    "    qml.CNOT(wires=[0, 1])\n",
    "    qml.PhaseShift(theta, wires=0)\n",
    "    return qml.expval(qml.PauliZ(0))"
   ]
  },
  {
   "cell_type": "code",
   "execution_count": 3,
   "id": "fc631375",
   "metadata": {},
   "outputs": [
    {
     "data": {
      "text/plain": [
       "(array([-4.79425539e-01, -6.93889390e-18]),\n",
       " tensor(-3.46944695e-18, requires_grad=True))"
      ]
     },
     "execution_count": 3,
     "metadata": {},
     "output_type": "execute_result"
    }
   ],
   "source": [
    "# enter your code here \n",
    "phi= np.array([0.5,0.1],requires_grad=True)\n",
    "theta= np.array(0.2,requires_grad=True)\n",
    "dcircuit= qml.grad(circuit2)\n",
    "dcircuit(phi,theta)"
   ]
  },
  {
   "cell_type": "code",
   "execution_count": null,
   "id": "1821719d",
   "metadata": {},
   "outputs": [],
   "source": []
  }
 ],
 "metadata": {
  "kernelspec": {
   "display_name": "Python 3 (ipykernel)",
   "language": "python",
   "name": "python3"
  },
  "language_info": {
   "codemirror_mode": {
    "name": "ipython",
    "version": 3
   },
   "file_extension": ".py",
   "mimetype": "text/x-python",
   "name": "python",
   "nbconvert_exporter": "python",
   "pygments_lexer": "ipython3",
   "version": "3.10.9"
  }
 },
 "nbformat": 4,
 "nbformat_minor": 5
}
