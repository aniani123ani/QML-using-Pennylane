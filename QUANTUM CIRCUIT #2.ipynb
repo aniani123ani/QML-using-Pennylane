{
 "cells": [
  {
   "cell_type": "code",
   "execution_count": 1,
   "id": "ac210350",
   "metadata": {},
   "outputs": [],
   "source": [
    "import pennylane as qml\n",
    "from pennylane import numpy as np"
   ]
  },
  {
   "cell_type": "code",
   "execution_count": 2,
   "id": "aa74faed",
   "metadata": {},
   "outputs": [],
   "source": [
    "dev2=qml.device(\"default.qubit\",wires=1)\n",
    "@qml.qnode(dev2)\n",
    "def circuit_parametrized(params):\n",
    "    qml.RZ(params[0],wires=0)\n",
    "    qml.RY(params[1],wires=0)\n",
    "    return qml.expval(qml.PauliZ(0)@qml.PauliY(0)@qml.PauliX(0))"
   ]
  },
  {
   "cell_type": "code",
   "execution_count": 3,
   "id": "4e0ec0ba",
   "metadata": {},
   "outputs": [
    {
     "name": "stderr",
     "output_type": "stream",
     "text": [
      "C:\\Users\\USER\\Documents\\ani\\lib\\site-packages\\pennylane\\operation.py:1945: UserWarning: Tensor object acts on overlapping wires; in some PennyLane functions this will lead to undefined behaviour\n",
      "  warnings.warn(\n",
      "C:\\Users\\USER\\Documents\\ani\\lib\\site-packages\\pennylane\\operation.py:2141: UserWarning: Tensor object acts on overlapping wires; in some PennyLane functions this will lead to undefined behaviour\n",
      "  warnings.warn(\n"
     ]
    },
    {
     "data": {
      "text/plain": [
       "tensor(0.94542856, requires_grad=True)"
      ]
     },
     "execution_count": 3,
     "metadata": {},
     "output_type": "execute_result"
    }
   ],
   "source": [
    "params=np.random.rand(3)\n",
    "circuit_parametrized(params)"
   ]
  },
  {
   "cell_type": "code",
   "execution_count": null,
   "id": "5be26a53",
   "metadata": {},
   "outputs": [],
   "source": []
  },
  {
   "cell_type": "code",
   "execution_count": null,
   "id": "23a8832d",
   "metadata": {},
   "outputs": [],
   "source": []
  }
 ],
 "metadata": {
  "kernelspec": {
   "display_name": "Python 3 (ipykernel)",
   "language": "python",
   "name": "python3"
  },
  "language_info": {
   "codemirror_mode": {
    "name": "ipython",
    "version": 3
   },
   "file_extension": ".py",
   "mimetype": "text/x-python",
   "name": "python",
   "nbconvert_exporter": "python",
   "pygments_lexer": "ipython3",
   "version": "3.10.9"
  }
 },
 "nbformat": 4,
 "nbformat_minor": 5
}
