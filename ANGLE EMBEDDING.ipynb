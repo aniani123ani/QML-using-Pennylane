{
 "cells": [
  {
   "cell_type": "code",
   "execution_count": 1,
   "id": "a657e4e8",
   "metadata": {},
   "outputs": [],
   "source": [
    "import pennylane as qml\n",
    "from pennylane import numpy as np"
   ]
  },
  {
   "cell_type": "code",
   "execution_count": 2,
   "id": "f7a83f20",
   "metadata": {},
   "outputs": [],
   "source": [
    "dev2 = qml.device('default.qubit', wires=3)\n",
    "\n",
    "@qml.qnode(dev2)\n",
    "def circuit2(feature_vector):\n",
    "    qml.AngleEmbedding(features=feature_vector,wires=range(3),rotation='Y')\n",
    "    qml.Hadamard(0)\n",
    "    return qml.probs(wires=range(3))\n"
   ]
  },
  {
   "cell_type": "code",
   "execution_count": 3,
   "id": "16c12d31",
   "metadata": {},
   "outputs": [],
   "source": [
    "Y=[0.83,0.24,0.35]"
   ]
  },
  {
   "cell_type": "code",
   "execution_count": 4,
   "id": "8bdeef1a",
   "metadata": {},
   "outputs": [
    {
     "name": "stdout",
     "output_type": "stream",
     "text": [
      "0: ──RY(0.83)──H─┤ ╭Probs\n",
      "1: ──RY(0.24)────┤ ├Probs\n",
      "2: ──RY(0.35)────┤ ╰Probs\n"
     ]
    }
   ],
   "source": [
    "print(qml.draw(circuit2, expansion_strategy=\"device\")(Y))"
   ]
  },
  {
   "cell_type": "code",
   "execution_count": null,
   "id": "ab24aaaa",
   "metadata": {},
   "outputs": [],
   "source": []
  }
 ],
 "metadata": {
  "kernelspec": {
   "display_name": "Python 3 (ipykernel)",
   "language": "python",
   "name": "python3"
  },
  "language_info": {
   "codemirror_mode": {
    "name": "ipython",
    "version": 3
   },
   "file_extension": ".py",
   "mimetype": "text/x-python",
   "name": "python",
   "nbconvert_exporter": "python",
   "pygments_lexer": "ipython3",
   "version": "3.10.9"
  }
 },
 "nbformat": 4,
 "nbformat_minor": 5
}
